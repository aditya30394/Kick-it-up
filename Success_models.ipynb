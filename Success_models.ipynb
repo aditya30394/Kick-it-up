{
 "cells": [
  {
   "cell_type": "markdown",
   "metadata": {},
   "source": [
    "### Part 3: Running the Machine Learning Models "
   ]
  },
  {
   "cell_type": "code",
   "execution_count": 1,
   "metadata": {},
   "outputs": [
    {
     "data": {
      "text/html": [
       "<div>\n",
       "<style scoped>\n",
       "    .dataframe tbody tr th:only-of-type {\n",
       "        vertical-align: middle;\n",
       "    }\n",
       "\n",
       "    .dataframe tbody tr th {\n",
       "        vertical-align: top;\n",
       "    }\n",
       "\n",
       "    .dataframe thead th {\n",
       "        text-align: right;\n",
       "    }\n",
       "</style>\n",
       "<table border=\"1\" class=\"dataframe\">\n",
       "  <thead>\n",
       "    <tr style=\"text-align: right;\">\n",
       "      <th></th>\n",
       "      <th>goal</th>\n",
       "      <th>staff_pick</th>\n",
       "      <th>slug_length</th>\n",
       "      <th>state_bool</th>\n",
       "      <th>campaign_days</th>\n",
       "      <th>creation_to_launch_days</th>\n",
       "      <th>country_AT</th>\n",
       "      <th>country_AU</th>\n",
       "      <th>country_BE</th>\n",
       "      <th>country_CA</th>\n",
       "      <th>...</th>\n",
       "      <th>deadline_month_December</th>\n",
       "      <th>deadline_month_February</th>\n",
       "      <th>deadline_month_January</th>\n",
       "      <th>deadline_month_July</th>\n",
       "      <th>deadline_month_June</th>\n",
       "      <th>deadline_month_March</th>\n",
       "      <th>deadline_month_May</th>\n",
       "      <th>deadline_month_November</th>\n",
       "      <th>deadline_month_October</th>\n",
       "      <th>deadline_month_September</th>\n",
       "    </tr>\n",
       "  </thead>\n",
       "  <tbody>\n",
       "    <tr>\n",
       "      <th>0</th>\n",
       "      <td>5000.0</td>\n",
       "      <td>1</td>\n",
       "      <td>33</td>\n",
       "      <td>1</td>\n",
       "      <td>30.0</td>\n",
       "      <td>9.0</td>\n",
       "      <td>0</td>\n",
       "      <td>0</td>\n",
       "      <td>0</td>\n",
       "      <td>0</td>\n",
       "      <td>...</td>\n",
       "      <td>0</td>\n",
       "      <td>0</td>\n",
       "      <td>0</td>\n",
       "      <td>0</td>\n",
       "      <td>0</td>\n",
       "      <td>0</td>\n",
       "      <td>0</td>\n",
       "      <td>0</td>\n",
       "      <td>0</td>\n",
       "      <td>0</td>\n",
       "    </tr>\n",
       "    <tr>\n",
       "      <th>1</th>\n",
       "      <td>24042.0</td>\n",
       "      <td>1</td>\n",
       "      <td>34</td>\n",
       "      <td>1</td>\n",
       "      <td>27.0</td>\n",
       "      <td>20.0</td>\n",
       "      <td>0</td>\n",
       "      <td>0</td>\n",
       "      <td>0</td>\n",
       "      <td>0</td>\n",
       "      <td>...</td>\n",
       "      <td>0</td>\n",
       "      <td>0</td>\n",
       "      <td>0</td>\n",
       "      <td>1</td>\n",
       "      <td>0</td>\n",
       "      <td>0</td>\n",
       "      <td>0</td>\n",
       "      <td>0</td>\n",
       "      <td>0</td>\n",
       "      <td>0</td>\n",
       "    </tr>\n",
       "    <tr>\n",
       "      <th>2</th>\n",
       "      <td>4000.0</td>\n",
       "      <td>0</td>\n",
       "      <td>8</td>\n",
       "      <td>0</td>\n",
       "      <td>60.0</td>\n",
       "      <td>1.0</td>\n",
       "      <td>0</td>\n",
       "      <td>0</td>\n",
       "      <td>0</td>\n",
       "      <td>0</td>\n",
       "      <td>...</td>\n",
       "      <td>0</td>\n",
       "      <td>0</td>\n",
       "      <td>0</td>\n",
       "      <td>0</td>\n",
       "      <td>0</td>\n",
       "      <td>1</td>\n",
       "      <td>0</td>\n",
       "      <td>0</td>\n",
       "      <td>0</td>\n",
       "      <td>0</td>\n",
       "    </tr>\n",
       "    <tr>\n",
       "      <th>3</th>\n",
       "      <td>500.0</td>\n",
       "      <td>0</td>\n",
       "      <td>29</td>\n",
       "      <td>1</td>\n",
       "      <td>19.0</td>\n",
       "      <td>8.0</td>\n",
       "      <td>0</td>\n",
       "      <td>0</td>\n",
       "      <td>0</td>\n",
       "      <td>0</td>\n",
       "      <td>...</td>\n",
       "      <td>0</td>\n",
       "      <td>0</td>\n",
       "      <td>0</td>\n",
       "      <td>0</td>\n",
       "      <td>0</td>\n",
       "      <td>1</td>\n",
       "      <td>0</td>\n",
       "      <td>0</td>\n",
       "      <td>0</td>\n",
       "      <td>0</td>\n",
       "    </tr>\n",
       "    <tr>\n",
       "      <th>4</th>\n",
       "      <td>2500.0</td>\n",
       "      <td>0</td>\n",
       "      <td>26</td>\n",
       "      <td>1</td>\n",
       "      <td>30.0</td>\n",
       "      <td>0.0</td>\n",
       "      <td>0</td>\n",
       "      <td>0</td>\n",
       "      <td>0</td>\n",
       "      <td>0</td>\n",
       "      <td>...</td>\n",
       "      <td>0</td>\n",
       "      <td>0</td>\n",
       "      <td>0</td>\n",
       "      <td>1</td>\n",
       "      <td>0</td>\n",
       "      <td>0</td>\n",
       "      <td>0</td>\n",
       "      <td>0</td>\n",
       "      <td>0</td>\n",
       "      <td>0</td>\n",
       "    </tr>\n",
       "  </tbody>\n",
       "</table>\n",
       "<p>5 rows × 76 columns</p>\n",
       "</div>"
      ],
      "text/plain": [
       "      goal  staff_pick  slug_length  state_bool  campaign_days  \\\n",
       "0   5000.0           1           33           1           30.0   \n",
       "1  24042.0           1           34           1           27.0   \n",
       "2   4000.0           0            8           0           60.0   \n",
       "3    500.0           0           29           1           19.0   \n",
       "4   2500.0           0           26           1           30.0   \n",
       "\n",
       "   creation_to_launch_days  country_AT  country_AU  country_BE  country_CA  \\\n",
       "0                      9.0           0           0           0           0   \n",
       "1                     20.0           0           0           0           0   \n",
       "2                      1.0           0           0           0           0   \n",
       "3                      8.0           0           0           0           0   \n",
       "4                      0.0           0           0           0           0   \n",
       "\n",
       "   ...  deadline_month_December  deadline_month_February  \\\n",
       "0  ...                        0                        0   \n",
       "1  ...                        0                        0   \n",
       "2  ...                        0                        0   \n",
       "3  ...                        0                        0   \n",
       "4  ...                        0                        0   \n",
       "\n",
       "   deadline_month_January  deadline_month_July  deadline_month_June  \\\n",
       "0                       0                    0                    0   \n",
       "1                       0                    1                    0   \n",
       "2                       0                    0                    0   \n",
       "3                       0                    0                    0   \n",
       "4                       0                    1                    0   \n",
       "\n",
       "   deadline_month_March  deadline_month_May  deadline_month_November  \\\n",
       "0                     0                   0                        0   \n",
       "1                     0                   0                        0   \n",
       "2                     1                   0                        0   \n",
       "3                     1                   0                        0   \n",
       "4                     0                   0                        0   \n",
       "\n",
       "   deadline_month_October  deadline_month_September  \n",
       "0                       0                         0  \n",
       "1                       0                         0  \n",
       "2                       0                         0  \n",
       "3                       0                         0  \n",
       "4                       0                         0  \n",
       "\n",
       "[5 rows x 76 columns]"
      ]
     },
     "execution_count": 1,
     "metadata": {},
     "output_type": "execute_result"
    }
   ],
   "source": [
    "import pandas as pd\n",
    "df_model = pd.read_csv(\"final_cleaned_data_ML.csv\")\n",
    "df_model.head()"
   ]
  },
  {
   "cell_type": "code",
   "execution_count": 2,
   "metadata": {},
   "outputs": [
    {
     "data": {
      "text/plain": [
       "Index(['goal', 'staff_pick', 'slug_length', 'state_bool', 'campaign_days',\n",
       "       'creation_to_launch_days', 'country_AT', 'country_AU', 'country_BE',\n",
       "       'country_CA', 'country_CH', 'country_DE', 'country_DK', 'country_ES',\n",
       "       'country_FR', 'country_GB', 'country_HK', 'country_IE', 'country_IT',\n",
       "       'country_JP', 'country_LU', 'country_MX', 'country_NL', 'country_NO',\n",
       "       'country_NZ', 'country_SE', 'country_SG', 'country_US', 'category_art',\n",
       "       'category_comics', 'category_crafts', 'category_dance',\n",
       "       'category_design', 'category_fashion', 'category_film & video',\n",
       "       'category_food', 'category_games', 'category_journalism',\n",
       "       'category_music', 'category_photography', 'category_publishing',\n",
       "       'category_technology', 'category_theater', 'blurb_length',\n",
       "       'name_length', 'launch_month_1', 'launch_month_2', 'launch_month_3',\n",
       "       'launch_month_4', 'launch_month_5', 'launch_month_6', 'launch_month_7',\n",
       "       'launch_month_8', 'launch_month_9', 'launch_month_10',\n",
       "       'launch_month_11', 'launch_month_12', 'launch_day_0', 'launch_day_1',\n",
       "       'launch_day_2', 'launch_day_3', 'launch_day_4', 'launch_day_5',\n",
       "       'launch_day_6', 'deadline_month_April', 'deadline_month_August',\n",
       "       'deadline_month_December', 'deadline_month_February',\n",
       "       'deadline_month_January', 'deadline_month_July', 'deadline_month_June',\n",
       "       'deadline_month_March', 'deadline_month_May', 'deadline_month_November',\n",
       "       'deadline_month_October', 'deadline_month_September'],\n",
       "      dtype='object')"
      ]
     },
     "execution_count": 2,
     "metadata": {},
     "output_type": "execute_result"
    }
   ],
   "source": [
    "df_model.columns"
   ]
  },
  {
   "cell_type": "code",
   "execution_count": 3,
   "metadata": {},
   "outputs": [
    {
     "name": "stdout",
     "output_type": "stream",
     "text": [
      "Length of X_temp is 169962\n",
      "Length of y is 169962\n"
     ]
    }
   ],
   "source": [
    "X_temp = df_model.drop(['state_bool'], axis=1)\n",
    "y = df_model.state_bool\n",
    "\n",
    "print(\"Length of X_temp is {}\".format(len(X_temp)))\n",
    "print(\"Length of y is {}\".format(len(y)))"
   ]
  },
  {
   "cell_type": "code",
   "execution_count": 4,
   "metadata": {},
   "outputs": [
    {
     "data": {
      "text/html": [
       "<div>\n",
       "<style scoped>\n",
       "    .dataframe tbody tr th:only-of-type {\n",
       "        vertical-align: middle;\n",
       "    }\n",
       "\n",
       "    .dataframe tbody tr th {\n",
       "        vertical-align: top;\n",
       "    }\n",
       "\n",
       "    .dataframe thead th {\n",
       "        text-align: right;\n",
       "    }\n",
       "</style>\n",
       "<table border=\"1\" class=\"dataframe\">\n",
       "  <thead>\n",
       "    <tr style=\"text-align: right;\">\n",
       "      <th></th>\n",
       "      <th>goal</th>\n",
       "      <th>staff_pick</th>\n",
       "      <th>slug_length</th>\n",
       "      <th>campaign_days</th>\n",
       "      <th>creation_to_launch_days</th>\n",
       "      <th>country_AT</th>\n",
       "      <th>country_AU</th>\n",
       "      <th>country_BE</th>\n",
       "      <th>country_CA</th>\n",
       "      <th>country_CH</th>\n",
       "      <th>...</th>\n",
       "      <th>deadline_month_December</th>\n",
       "      <th>deadline_month_February</th>\n",
       "      <th>deadline_month_January</th>\n",
       "      <th>deadline_month_July</th>\n",
       "      <th>deadline_month_June</th>\n",
       "      <th>deadline_month_March</th>\n",
       "      <th>deadline_month_May</th>\n",
       "      <th>deadline_month_November</th>\n",
       "      <th>deadline_month_October</th>\n",
       "      <th>deadline_month_September</th>\n",
       "    </tr>\n",
       "  </thead>\n",
       "  <tbody>\n",
       "    <tr>\n",
       "      <th>0</th>\n",
       "      <td>5000.0</td>\n",
       "      <td>1</td>\n",
       "      <td>33</td>\n",
       "      <td>30.0</td>\n",
       "      <td>9.0</td>\n",
       "      <td>0</td>\n",
       "      <td>0</td>\n",
       "      <td>0</td>\n",
       "      <td>0</td>\n",
       "      <td>0</td>\n",
       "      <td>...</td>\n",
       "      <td>0</td>\n",
       "      <td>0</td>\n",
       "      <td>0</td>\n",
       "      <td>0</td>\n",
       "      <td>0</td>\n",
       "      <td>0</td>\n",
       "      <td>0</td>\n",
       "      <td>0</td>\n",
       "      <td>0</td>\n",
       "      <td>0</td>\n",
       "    </tr>\n",
       "    <tr>\n",
       "      <th>1</th>\n",
       "      <td>24042.0</td>\n",
       "      <td>1</td>\n",
       "      <td>34</td>\n",
       "      <td>27.0</td>\n",
       "      <td>20.0</td>\n",
       "      <td>0</td>\n",
       "      <td>0</td>\n",
       "      <td>0</td>\n",
       "      <td>0</td>\n",
       "      <td>0</td>\n",
       "      <td>...</td>\n",
       "      <td>0</td>\n",
       "      <td>0</td>\n",
       "      <td>0</td>\n",
       "      <td>1</td>\n",
       "      <td>0</td>\n",
       "      <td>0</td>\n",
       "      <td>0</td>\n",
       "      <td>0</td>\n",
       "      <td>0</td>\n",
       "      <td>0</td>\n",
       "    </tr>\n",
       "    <tr>\n",
       "      <th>2</th>\n",
       "      <td>4000.0</td>\n",
       "      <td>0</td>\n",
       "      <td>8</td>\n",
       "      <td>60.0</td>\n",
       "      <td>1.0</td>\n",
       "      <td>0</td>\n",
       "      <td>0</td>\n",
       "      <td>0</td>\n",
       "      <td>0</td>\n",
       "      <td>0</td>\n",
       "      <td>...</td>\n",
       "      <td>0</td>\n",
       "      <td>0</td>\n",
       "      <td>0</td>\n",
       "      <td>0</td>\n",
       "      <td>0</td>\n",
       "      <td>1</td>\n",
       "      <td>0</td>\n",
       "      <td>0</td>\n",
       "      <td>0</td>\n",
       "      <td>0</td>\n",
       "    </tr>\n",
       "    <tr>\n",
       "      <th>3</th>\n",
       "      <td>500.0</td>\n",
       "      <td>0</td>\n",
       "      <td>29</td>\n",
       "      <td>19.0</td>\n",
       "      <td>8.0</td>\n",
       "      <td>0</td>\n",
       "      <td>0</td>\n",
       "      <td>0</td>\n",
       "      <td>0</td>\n",
       "      <td>0</td>\n",
       "      <td>...</td>\n",
       "      <td>0</td>\n",
       "      <td>0</td>\n",
       "      <td>0</td>\n",
       "      <td>0</td>\n",
       "      <td>0</td>\n",
       "      <td>1</td>\n",
       "      <td>0</td>\n",
       "      <td>0</td>\n",
       "      <td>0</td>\n",
       "      <td>0</td>\n",
       "    </tr>\n",
       "    <tr>\n",
       "      <th>4</th>\n",
       "      <td>2500.0</td>\n",
       "      <td>0</td>\n",
       "      <td>26</td>\n",
       "      <td>30.0</td>\n",
       "      <td>0.0</td>\n",
       "      <td>0</td>\n",
       "      <td>0</td>\n",
       "      <td>0</td>\n",
       "      <td>0</td>\n",
       "      <td>0</td>\n",
       "      <td>...</td>\n",
       "      <td>0</td>\n",
       "      <td>0</td>\n",
       "      <td>0</td>\n",
       "      <td>1</td>\n",
       "      <td>0</td>\n",
       "      <td>0</td>\n",
       "      <td>0</td>\n",
       "      <td>0</td>\n",
       "      <td>0</td>\n",
       "      <td>0</td>\n",
       "    </tr>\n",
       "  </tbody>\n",
       "</table>\n",
       "<p>5 rows × 75 columns</p>\n",
       "</div>"
      ],
      "text/plain": [
       "      goal  staff_pick  slug_length  campaign_days  creation_to_launch_days  \\\n",
       "0   5000.0           1           33           30.0                      9.0   \n",
       "1  24042.0           1           34           27.0                     20.0   \n",
       "2   4000.0           0            8           60.0                      1.0   \n",
       "3    500.0           0           29           19.0                      8.0   \n",
       "4   2500.0           0           26           30.0                      0.0   \n",
       "\n",
       "   country_AT  country_AU  country_BE  country_CA  country_CH  ...  \\\n",
       "0           0           0           0           0           0  ...   \n",
       "1           0           0           0           0           0  ...   \n",
       "2           0           0           0           0           0  ...   \n",
       "3           0           0           0           0           0  ...   \n",
       "4           0           0           0           0           0  ...   \n",
       "\n",
       "   deadline_month_December  deadline_month_February  deadline_month_January  \\\n",
       "0                        0                        0                       0   \n",
       "1                        0                        0                       0   \n",
       "2                        0                        0                       0   \n",
       "3                        0                        0                       0   \n",
       "4                        0                        0                       0   \n",
       "\n",
       "   deadline_month_July  deadline_month_June  deadline_month_March  \\\n",
       "0                    0                    0                     0   \n",
       "1                    1                    0                     0   \n",
       "2                    0                    0                     1   \n",
       "3                    0                    0                     1   \n",
       "4                    1                    0                     0   \n",
       "\n",
       "   deadline_month_May  deadline_month_November  deadline_month_October  \\\n",
       "0                   0                        0                       0   \n",
       "1                   0                        0                       0   \n",
       "2                   0                        0                       0   \n",
       "3                   0                        0                       0   \n",
       "4                   0                        0                       0   \n",
       "\n",
       "   deadline_month_September  \n",
       "0                         0  \n",
       "1                         0  \n",
       "2                         0  \n",
       "3                         0  \n",
       "4                         0  \n",
       "\n",
       "[5 rows x 75 columns]"
      ]
     },
     "execution_count": 4,
     "metadata": {},
     "output_type": "execute_result"
    }
   ],
   "source": [
    "X_temp.head()"
   ]
  },
  {
   "cell_type": "code",
   "execution_count": 5,
   "metadata": {},
   "outputs": [
    {
     "data": {
      "text/html": [
       "<div>\n",
       "<style scoped>\n",
       "    .dataframe tbody tr th:only-of-type {\n",
       "        vertical-align: middle;\n",
       "    }\n",
       "\n",
       "    .dataframe tbody tr th {\n",
       "        vertical-align: top;\n",
       "    }\n",
       "\n",
       "    .dataframe thead th {\n",
       "        text-align: right;\n",
       "    }\n",
       "</style>\n",
       "<table border=\"1\" class=\"dataframe\">\n",
       "  <thead>\n",
       "    <tr style=\"text-align: right;\">\n",
       "      <th></th>\n",
       "      <th>goal</th>\n",
       "      <th>staff_pick</th>\n",
       "      <th>slug_length</th>\n",
       "      <th>campaign_days</th>\n",
       "      <th>creation_to_launch_days</th>\n",
       "      <th>country_AT</th>\n",
       "      <th>country_AU</th>\n",
       "      <th>country_BE</th>\n",
       "      <th>country_CA</th>\n",
       "      <th>country_CH</th>\n",
       "      <th>...</th>\n",
       "      <th>deadline_month_December</th>\n",
       "      <th>deadline_month_February</th>\n",
       "      <th>deadline_month_January</th>\n",
       "      <th>deadline_month_July</th>\n",
       "      <th>deadline_month_June</th>\n",
       "      <th>deadline_month_March</th>\n",
       "      <th>deadline_month_May</th>\n",
       "      <th>deadline_month_November</th>\n",
       "      <th>deadline_month_October</th>\n",
       "      <th>deadline_month_September</th>\n",
       "    </tr>\n",
       "  </thead>\n",
       "  <tbody>\n",
       "    <tr>\n",
       "      <th>0</th>\n",
       "      <td>-0.037708</td>\n",
       "      <td>2.601522</td>\n",
       "      <td>0.056000</td>\n",
       "      <td>-0.226036</td>\n",
       "      <td>-0.293315</td>\n",
       "      <td>-0.047648</td>\n",
       "      <td>-0.153349</td>\n",
       "      <td>-0.052321</td>\n",
       "      <td>-0.21914</td>\n",
       "      <td>-0.056822</td>\n",
       "      <td>...</td>\n",
       "      <td>-0.299399</td>\n",
       "      <td>-0.268903</td>\n",
       "      <td>-0.247857</td>\n",
       "      <td>-0.326247</td>\n",
       "      <td>-0.315483</td>\n",
       "      <td>-0.318271</td>\n",
       "      <td>-0.321401</td>\n",
       "      <td>-0.299177</td>\n",
       "      <td>-0.293669</td>\n",
       "      <td>-0.288137</td>\n",
       "    </tr>\n",
       "    <tr>\n",
       "      <th>1</th>\n",
       "      <td>-0.021615</td>\n",
       "      <td>2.601522</td>\n",
       "      <td>0.129005</td>\n",
       "      <td>-0.479827</td>\n",
       "      <td>-0.209304</td>\n",
       "      <td>-0.047648</td>\n",
       "      <td>-0.153349</td>\n",
       "      <td>-0.052321</td>\n",
       "      <td>-0.21914</td>\n",
       "      <td>-0.056822</td>\n",
       "      <td>...</td>\n",
       "      <td>-0.299399</td>\n",
       "      <td>-0.268903</td>\n",
       "      <td>-0.247857</td>\n",
       "      <td>3.065164</td>\n",
       "      <td>-0.315483</td>\n",
       "      <td>-0.318271</td>\n",
       "      <td>-0.321401</td>\n",
       "      <td>-0.299177</td>\n",
       "      <td>-0.293669</td>\n",
       "      <td>-0.288137</td>\n",
       "    </tr>\n",
       "    <tr>\n",
       "      <th>2</th>\n",
       "      <td>-0.038553</td>\n",
       "      <td>-0.384390</td>\n",
       "      <td>-1.769120</td>\n",
       "      <td>2.311867</td>\n",
       "      <td>-0.354413</td>\n",
       "      <td>-0.047648</td>\n",
       "      <td>-0.153349</td>\n",
       "      <td>-0.052321</td>\n",
       "      <td>-0.21914</td>\n",
       "      <td>-0.056822</td>\n",
       "      <td>...</td>\n",
       "      <td>-0.299399</td>\n",
       "      <td>-0.268903</td>\n",
       "      <td>-0.247857</td>\n",
       "      <td>-0.326247</td>\n",
       "      <td>-0.315483</td>\n",
       "      <td>3.141974</td>\n",
       "      <td>-0.321401</td>\n",
       "      <td>-0.299177</td>\n",
       "      <td>-0.293669</td>\n",
       "      <td>-0.288137</td>\n",
       "    </tr>\n",
       "    <tr>\n",
       "      <th>3</th>\n",
       "      <td>-0.041511</td>\n",
       "      <td>-0.384390</td>\n",
       "      <td>-0.236019</td>\n",
       "      <td>-1.156601</td>\n",
       "      <td>-0.300952</td>\n",
       "      <td>-0.047648</td>\n",
       "      <td>-0.153349</td>\n",
       "      <td>-0.052321</td>\n",
       "      <td>-0.21914</td>\n",
       "      <td>-0.056822</td>\n",
       "      <td>...</td>\n",
       "      <td>-0.299399</td>\n",
       "      <td>-0.268903</td>\n",
       "      <td>-0.247857</td>\n",
       "      <td>-0.326247</td>\n",
       "      <td>-0.315483</td>\n",
       "      <td>3.141974</td>\n",
       "      <td>-0.321401</td>\n",
       "      <td>-0.299177</td>\n",
       "      <td>-0.293669</td>\n",
       "      <td>-0.288137</td>\n",
       "    </tr>\n",
       "    <tr>\n",
       "      <th>4</th>\n",
       "      <td>-0.039821</td>\n",
       "      <td>-0.384390</td>\n",
       "      <td>-0.455033</td>\n",
       "      <td>-0.226036</td>\n",
       "      <td>-0.362051</td>\n",
       "      <td>-0.047648</td>\n",
       "      <td>-0.153349</td>\n",
       "      <td>-0.052321</td>\n",
       "      <td>-0.21914</td>\n",
       "      <td>-0.056822</td>\n",
       "      <td>...</td>\n",
       "      <td>-0.299399</td>\n",
       "      <td>-0.268903</td>\n",
       "      <td>-0.247857</td>\n",
       "      <td>3.065164</td>\n",
       "      <td>-0.315483</td>\n",
       "      <td>-0.318271</td>\n",
       "      <td>-0.321401</td>\n",
       "      <td>-0.299177</td>\n",
       "      <td>-0.293669</td>\n",
       "      <td>-0.288137</td>\n",
       "    </tr>\n",
       "  </tbody>\n",
       "</table>\n",
       "<p>5 rows × 75 columns</p>\n",
       "</div>"
      ],
      "text/plain": [
       "       goal  staff_pick  slug_length  campaign_days  creation_to_launch_days  \\\n",
       "0 -0.037708    2.601522     0.056000      -0.226036                -0.293315   \n",
       "1 -0.021615    2.601522     0.129005      -0.479827                -0.209304   \n",
       "2 -0.038553   -0.384390    -1.769120       2.311867                -0.354413   \n",
       "3 -0.041511   -0.384390    -0.236019      -1.156601                -0.300952   \n",
       "4 -0.039821   -0.384390    -0.455033      -0.226036                -0.362051   \n",
       "\n",
       "   country_AT  country_AU  country_BE  country_CA  country_CH  ...  \\\n",
       "0   -0.047648   -0.153349   -0.052321    -0.21914   -0.056822  ...   \n",
       "1   -0.047648   -0.153349   -0.052321    -0.21914   -0.056822  ...   \n",
       "2   -0.047648   -0.153349   -0.052321    -0.21914   -0.056822  ...   \n",
       "3   -0.047648   -0.153349   -0.052321    -0.21914   -0.056822  ...   \n",
       "4   -0.047648   -0.153349   -0.052321    -0.21914   -0.056822  ...   \n",
       "\n",
       "   deadline_month_December  deadline_month_February  deadline_month_January  \\\n",
       "0                -0.299399                -0.268903               -0.247857   \n",
       "1                -0.299399                -0.268903               -0.247857   \n",
       "2                -0.299399                -0.268903               -0.247857   \n",
       "3                -0.299399                -0.268903               -0.247857   \n",
       "4                -0.299399                -0.268903               -0.247857   \n",
       "\n",
       "   deadline_month_July  deadline_month_June  deadline_month_March  \\\n",
       "0            -0.326247            -0.315483             -0.318271   \n",
       "1             3.065164            -0.315483             -0.318271   \n",
       "2            -0.326247            -0.315483              3.141974   \n",
       "3            -0.326247            -0.315483              3.141974   \n",
       "4             3.065164            -0.315483             -0.318271   \n",
       "\n",
       "   deadline_month_May  deadline_month_November  deadline_month_October  \\\n",
       "0           -0.321401                -0.299177               -0.293669   \n",
       "1           -0.321401                -0.299177               -0.293669   \n",
       "2           -0.321401                -0.299177               -0.293669   \n",
       "3           -0.321401                -0.299177               -0.293669   \n",
       "4           -0.321401                -0.299177               -0.293669   \n",
       "\n",
       "   deadline_month_September  \n",
       "0                 -0.288137  \n",
       "1                 -0.288137  \n",
       "2                 -0.288137  \n",
       "3                 -0.288137  \n",
       "4                 -0.288137  \n",
       "\n",
       "[5 rows x 75 columns]"
      ]
     },
     "execution_count": 5,
     "metadata": {},
     "output_type": "execute_result"
    }
   ],
   "source": [
    "##########Pre-processing############\n",
    "########### Standardizing the data ################\n",
    "from sklearn.preprocessing import StandardScaler\n",
    "scaler = StandardScaler()\n",
    "\n",
    "X = pd.DataFrame(scaler.fit_transform(X_temp), columns=list(X_temp.columns))\n",
    "X.head()"
   ]
  },
  {
   "cell_type": "code",
   "execution_count": 6,
   "metadata": {},
   "outputs": [
    {
     "name": "stdout",
     "output_type": "stream",
     "text": [
      "Length of training set is 118973\n",
      "Length of test set is 50989\n",
      "Shape of X_train is (118973, 75)\n",
      "Shape of y_train is (118973,)\n",
      "Shape of X_test is (50989, 75)\n",
      "Shape of y_test is (50989,)\n"
     ]
    }
   ],
   "source": [
    "from sklearn.model_selection import train_test_split\n",
    "X_train, X_test, y_train, y_test = train_test_split(X, y, test_size=0.3, random_state=42)\n",
    "\n",
    "print(\"Length of training set is {}\".format(len(X_train)))\n",
    "print(\"Length of test set is {}\".format(len(X_test)))\n",
    "\n",
    "print(\"Shape of X_train is {}\".format(X_train.shape))\n",
    "print(\"Shape of y_train is {}\".format(y_train.shape))\n",
    "print(\"Shape of X_test is {}\".format(X_test.shape))\n",
    "print(\"Shape of y_test is {}\".format(y_test.shape))"
   ]
  },
  {
   "cell_type": "code",
   "execution_count": 12,
   "metadata": {},
   "outputs": [
    {
     "name": "stderr",
     "output_type": "stream",
     "text": [
      "C:\\Users\\akhil\\Anaconda3\\lib\\site-packages\\sklearn\\linear_model\\logistic.py:432: FutureWarning: Default solver will be changed to 'lbfgs' in 0.22. Specify a solver to silence this warning.\n",
      "  FutureWarning)\n"
     ]
    },
    {
     "data": {
      "text/plain": [
       "LogisticRegression(C=1.0, class_weight=None, dual=False, fit_intercept=True,\n",
       "                   intercept_scaling=1, l1_ratio=None, max_iter=100,\n",
       "                   multi_class='warn', n_jobs=None, penalty='l2',\n",
       "                   random_state=None, solver='warn', tol=0.0001, verbose=0,\n",
       "                   warm_start=False)"
      ]
     },
     "execution_count": 12,
     "metadata": {},
     "output_type": "execute_result"
    }
   ],
   "source": [
    "############## Logistic Regression Model ##############\n",
    "from sklearn.linear_model import LogisticRegression\n",
    "\n",
    "logisticRegr = LogisticRegression()\n",
    "logisticRegr.fit(X_train, y_train)"
   ]
  },
  {
   "cell_type": "code",
   "execution_count": 8,
   "metadata": {},
   "outputs": [],
   "source": [
    "y_pred = logisticRegr.predict(X_test)"
   ]
  },
  {
   "cell_type": "code",
   "execution_count": 9,
   "metadata": {},
   "outputs": [
    {
     "name": "stdout",
     "output_type": "stream",
     "text": [
      "Results for logistic regression without sentiments\n"
     ]
    },
    {
     "data": {
      "text/plain": [
       "0.7072309713859852"
      ]
     },
     "execution_count": 9,
     "metadata": {},
     "output_type": "execute_result"
    }
   ],
   "source": [
    "from sklearn import metrics\n",
    "print(\"Results for logistic regression without sentiments\")\n",
    "metrics.accuracy_score(y_test, y_pred)"
   ]
  },
  {
   "cell_type": "code",
   "execution_count": 10,
   "metadata": {},
   "outputs": [
    {
     "name": "stdout",
     "output_type": "stream",
     "text": [
      "              precision    recall  f1-score   support\n",
      "\n",
      "           0       0.69      0.57      0.62     21785\n",
      "           1       0.72      0.81      0.76     29204\n",
      "\n",
      "    accuracy                           0.71     50989\n",
      "   macro avg       0.70      0.69      0.69     50989\n",
      "weighted avg       0.71      0.71      0.70     50989\n",
      "\n"
     ]
    }
   ],
   "source": [
    "from sklearn.metrics import classification_report\n",
    "print(classification_report(y_test, y_pred))"
   ]
  },
  {
   "cell_type": "code",
   "execution_count": 11,
   "metadata": {},
   "outputs": [],
   "source": [
    "###### To plot the confusion matrix ############\n",
    "import matplotlib.pyplot as plt\n",
    "import seaborn as sns\n",
    "from sklearn import metrics\n",
    "\n",
    "cm = metrics.confusion_matrix(y_test, y_pred)"
   ]
  },
  {
   "cell_type": "code",
   "execution_count": 12,
   "metadata": {},
   "outputs": [
    {
     "data": {
      "image/png": "[encoded data removed]",
      "text/plain": [
       "<Figure size 360x360 with 2 Axes>"
      ]
     },
     "metadata": {
      "needs_background": "light"
     },
     "output_type": "display_data"
    }
   ],
   "source": [
    "plt.figure(figsize=(5,5))\n",
    "sns.heatmap(cm, annot=True, fmt=\".3f\", linewidths=.5, square = True, cmap = 'Blues_r');\n",
    "plt.ylabel('Actual label');\n",
    "plt.xlabel('Predicted label');\n",
    "all_sample_title = 'Accuracy Score: {0}'.format(metrics.accuracy_score(y_test, y_pred).round(4))\n",
    "plt.title(all_sample_title, size = 15);"
   ]
  },
  {
   "cell_type": "code",
   "execution_count": 7,
   "metadata": {},
   "outputs": [
    {
     "data": {
      "text/plain": [
       "SVC(C=1.0, cache_size=200, class_weight=None, coef0=0.0,\n",
       "    decision_function_shape='ovr', degree=3, gamma='scale', kernel='rbf',\n",
       "    max_iter=-1, probability=False, random_state=None, shrinking=True,\n",
       "    tol=0.001, verbose=False)"
      ]
     },
     "execution_count": 7,
     "metadata": {},
     "output_type": "execute_result"
    }
   ],
   "source": [
    "############ SVM #################\n",
    "from sklearn.svm import SVC\n",
    "clf = SVC(gamma='scale')\n",
    "clf.fit(X_train, y_train)"
   ]
  },
  {
   "cell_type": "code",
   "execution_count": 8,
   "metadata": {},
   "outputs": [
    {
     "name": "stdout",
     "output_type": "stream",
     "text": [
      "              precision    recall  f1-score   support\n",
      "\n",
      "           0       0.68      0.53      0.60     21785\n",
      "           1       0.70      0.82      0.75     29204\n",
      "\n",
      "    accuracy                           0.69     50989\n",
      "   macro avg       0.69      0.67      0.68     50989\n",
      "weighted avg       0.69      0.69      0.69     50989\n",
      "\n"
     ]
    }
   ],
   "source": [
    "y_pred = clf.predict(X_test)\n",
    "\n",
    "from sklearn.metrics import classification_report\n",
    "print(classification_report(y_test, y_pred))"
   ]
  },
  {
   "cell_type": "code",
   "execution_count": 10,
   "metadata": {},
   "outputs": [
    {
     "data": {
      "image/png": "[encoded data removed]",
      "text/plain": [
       "<Figure size 360x360 with 2 Axes>"
      ]
     },
     "metadata": {
      "needs_background": "light"
     },
     "output_type": "display_data"
    }
   ],
   "source": [
    "import matplotlib.pyplot as plt\n",
    "import seaborn as sns\n",
    "from sklearn import metrics\n",
    "\n",
    "cm = metrics.confusion_matrix(y_test, y_pred)\n",
    "\n",
    "plt.figure(figsize=(5,5))\n",
    "sns.heatmap(cm, annot=True, fmt=\".3f\", linewidths=.5, square = True, cmap = 'Blues_r');\n",
    "plt.ylabel('Actual label');\n",
    "plt.xlabel('Predicted label');\n",
    "all_sample_title = 'Accuracy Score: {0}'.format(metrics.accuracy_score(y_test, y_pred).round(4))\n",
    "plt.title(all_sample_title, size = 15);"
   ]
  },
  {
   "cell_type": "code",
   "execution_count": null,
   "metadata": {},
   "outputs": [],
   "source": []
  },
  {
   "cell_type": "code",
   "execution_count": 13,
   "metadata": {},
   "outputs": [],
   "source": [
    "####### Decision trees ##############\n",
    "from sklearn import tree\n",
    "clf = tree.DecisionTreeClassifier()\n",
    "clf = clf.fit(X_train, y_train)"
   ]
  },
  {
   "cell_type": "code",
   "execution_count": 14,
   "metadata": {},
   "outputs": [
    {
     "name": "stdout",
     "output_type": "stream",
     "text": [
      "Results for Decision tree without sentiments\n"
     ]
    },
    {
     "data": {
      "text/plain": [
       "0.6551413049873502"
      ]
     },
     "execution_count": 14,
     "metadata": {},
     "output_type": "execute_result"
    }
   ],
   "source": [
    "y_pred = clf.predict(X_test)\n",
    "from sklearn import metrics\n",
    "print(\"Results for Decision tree without sentiments\")\n",
    "metrics.accuracy_score(y_test, y_pred)"
   ]
  },
  {
   "cell_type": "code",
   "execution_count": 15,
   "metadata": {},
   "outputs": [
    {
     "name": "stdout",
     "output_type": "stream",
     "text": [
      "              precision    recall  f1-score   support\n",
      "\n",
      "           0       0.59      0.61      0.60     21785\n",
      "           1       0.70      0.69      0.70     29204\n",
      "\n",
      "    accuracy                           0.66     50989\n",
      "   macro avg       0.65      0.65      0.65     50989\n",
      "weighted avg       0.66      0.66      0.66     50989\n",
      "\n"
     ]
    }
   ],
   "source": [
    "from sklearn.metrics import classification_report\n",
    "print(classification_report(y_test, y_pred))"
   ]
  },
  {
   "cell_type": "code",
   "execution_count": 16,
   "metadata": {},
   "outputs": [
    {
     "data": {
      "image/png": "[encoded data removed]",
      "text/plain": [
       "<Figure size 360x360 with 2 Axes>"
      ]
     },
     "metadata": {
      "needs_background": "light"
     },
     "output_type": "display_data"
    }
   ],
   "source": [
    "import matplotlib.pyplot as plt\n",
    "import seaborn as sns\n",
    "from sklearn import metrics\n",
    "\n",
    "cm = metrics.confusion_matrix(y_test, y_pred)\n",
    "\n",
    "plt.figure(figsize=(5,5))\n",
    "sns.heatmap(cm, annot=True, fmt=\".3f\", linewidths=.5, square = True, cmap = 'Blues_r');\n",
    "plt.ylabel('Actual label');\n",
    "plt.xlabel('Predicted label');\n",
    "all_sample_title = 'Accuracy Score: {0}'.format(metrics.accuracy_score(y_test, y_pred).round(4))\n",
    "plt.title(all_sample_title, size = 15);"
   ]
  },
  {
   "cell_type": "code",
   "execution_count": 17,
   "metadata": {},
   "outputs": [
    {
     "data": {
      "text/plain": [
       "RandomForestClassifier(bootstrap=True, class_weight=None, criterion='gini',\n",
       "                       max_depth=None, max_features='auto', max_leaf_nodes=None,\n",
       "                       min_impurity_decrease=0.0, min_impurity_split=None,\n",
       "                       min_samples_leaf=1, min_samples_split=2,\n",
       "                       min_weight_fraction_leaf=0.0, n_estimators=200,\n",
       "                       n_jobs=None, oob_score=False, random_state=None,\n",
       "                       verbose=0, warm_start=False)"
      ]
     },
     "execution_count": 17,
     "metadata": {},
     "output_type": "execute_result"
    }
   ],
   "source": [
    "################ Random Forests ##############3\n",
    "from sklearn.ensemble import RandomForestClassifier\n",
    "\n",
    "#Create a Gaussian Classifier\n",
    "clf=RandomForestClassifier(n_estimators=200)\n",
    "\n",
    "#Train the model using the training sets y_pred=clf.predict(X_test)\n",
    "clf.fit(X_train,y_train)"
   ]
  },
  {
   "cell_type": "code",
   "execution_count": 18,
   "metadata": {},
   "outputs": [],
   "source": [
    "y_pred=clf.predict(X_test)"
   ]
  },
  {
   "cell_type": "code",
   "execution_count": 19,
   "metadata": {},
   "outputs": [
    {
     "name": "stdout",
     "output_type": "stream",
     "text": [
      "              precision    recall  f1-score   support\n",
      "\n",
      "           0       0.73      0.64      0.68     21785\n",
      "           1       0.75      0.82      0.78     29204\n",
      "\n",
      "    accuracy                           0.74     50989\n",
      "   macro avg       0.74      0.73      0.73     50989\n",
      "weighted avg       0.74      0.74      0.74     50989\n",
      "\n"
     ]
    }
   ],
   "source": [
    "from sklearn.metrics import classification_report\n",
    "print(classification_report(y_test, y_pred))"
   ]
  },
  {
   "cell_type": "code",
   "execution_count": 22,
   "metadata": {},
   "outputs": [
    {
     "data": {
      "image/png": "[encoded data removed]",
      "text/plain": [
       "<Figure size 360x360 with 2 Axes>"
      ]
     },
     "metadata": {
      "needs_background": "light"
     },
     "output_type": "display_data"
    }
   ],
   "source": [
    "import matplotlib.pyplot as plt\n",
    "import seaborn as sns\n",
    "from sklearn import metrics\n",
    "\n",
    "\n",
    "cm = metrics.confusion_matrix(y_test, y_pred)\n",
    "plt.figure(figsize=(5,5))\n",
    "sns.heatmap(cm, annot=True, fmt=\".3f\", linewidths=.5, square = True, cmap = 'Blues_r');\n",
    "plt.ylabel('Actual label');\n",
    "plt.xlabel('Predicted label');\n",
    "all_sample_title = 'Accuracy Score: {0}'.format(metrics.accuracy_score(y_test, y_pred).round(4))\n",
    "plt.title(all_sample_title, size = 15);"
   ]
  },
  {
   "cell_type": "code",
   "execution_count": 23,
   "metadata": {},
   "outputs": [
    {
     "data": {
      "text/plain": [
       "goal                        0.145977\n",
       "creation_to_launch_days     0.111063\n",
       "blurb_length                0.084436\n",
       "name_length                 0.083122\n",
       "campaign_days               0.074065\n",
       "slug_length                 0.072198\n",
       "staff_pick                  0.059881\n",
       "category_food               0.017527\n",
       "category_technology         0.014438\n",
       "launch_day_0                0.012103\n",
       "launch_day_2                0.011982\n",
       "launch_day_1                0.011921\n",
       "launch_day_3                0.011502\n",
       "launch_day_4                0.011274\n",
       "country_US                  0.010928\n",
       "category_music              0.009529\n",
       "launch_day_5                0.008303\n",
       "category_film & video       0.008001\n",
       "launch_day_6                0.007227\n",
       "country_GB                  0.007148\n",
       "category_publishing         0.006760\n",
       "category_art                0.006739\n",
       "launch_month_5              0.006526\n",
       "deadline_month_July         0.006418\n",
       "deadline_month_June         0.006350\n",
       "deadline_month_May          0.006291\n",
       "deadline_month_March        0.006276\n",
       "launch_month_6              0.006161\n",
       "launch_month_4              0.006125\n",
       "launch_month_3              0.006063\n",
       "                              ...   \n",
       "deadline_month_September    0.005314\n",
       "category_games              0.005267\n",
       "deadline_month_February     0.005260\n",
       "country_CA                  0.005020\n",
       "deadline_month_January      0.004965\n",
       "category_crafts             0.004892\n",
       "category_fashion            0.004855\n",
       "launch_month_12             0.004842\n",
       "category_design             0.004472\n",
       "category_theater            0.003575\n",
       "country_AU                  0.003172\n",
       "category_dance              0.002974\n",
       "country_DE                  0.002433\n",
       "country_IT                  0.002310\n",
       "country_FR                  0.002145\n",
       "country_MX                  0.001888\n",
       "country_HK                  0.001721\n",
       "country_ES                  0.001700\n",
       "country_NL                  0.001680\n",
       "country_SE                  0.001433\n",
       "country_DK                  0.001127\n",
       "country_NZ                  0.001064\n",
       "country_CH                  0.000757\n",
       "country_IE                  0.000756\n",
       "country_BE                  0.000666\n",
       "country_NO                  0.000650\n",
       "country_SG                  0.000650\n",
       "country_AT                  0.000613\n",
       "country_JP                  0.000458\n",
       "country_LU                  0.000085\n",
       "Length: 75, dtype: float64"
      ]
     },
     "execution_count": 23,
     "metadata": {},
     "output_type": "execute_result"
    }
   ],
   "source": [
    "import pandas as pd\n",
    "feature_imp = pd.Series(clf.feature_importances_,index=X_temp.columns).sort_values(ascending=False)\n",
    "feature_imp"
   ]
  },
  {
   "cell_type": "code",
   "execution_count": 24,
   "metadata": {},
   "outputs": [
    {
     "data": {
      "image/png": "[encoded data removed]",
      "text/plain": [
       "<Figure size 720x360 with 1 Axes>"
      ]
     },
     "metadata": {
      "needs_background": "light"
     },
     "output_type": "display_data"
    }
   ],
   "source": [
    "import matplotlib.pyplot as plt\n",
    "import seaborn as sns\n",
    "%matplotlib inline\n",
    "# Creating a bar plot\n",
    "plt.figure(figsize=(10,5))\n",
    "sns.barplot(x=feature_imp[0:15], y=feature_imp.index[0:15], palette='winter')\n",
    "# Add labels to your graph\n",
    "plt.xlabel('Feature Importance Score')\n",
    "plt.ylabel('Features')\n",
    "plt.title(\"Visualizing Important Features\")\n",
    "plt.savefig('ferature_importance.png')\n",
    "plt.show()"
   ]
  },
  {
   "cell_type": "markdown",
   "metadata": {},
   "source": [
    "### Models with sentiment features included"
   ]
  },
  {
   "cell_type": "code",
   "execution_count": 11,
   "metadata": {},
   "outputs": [
    {
     "data": {
      "text/html": [
       "<div>\n",
       "<style scoped>\n",
       "    .dataframe tbody tr th:only-of-type {\n",
       "        vertical-align: middle;\n",
       "    }\n",
       "\n",
       "    .dataframe tbody tr th {\n",
       "        vertical-align: top;\n",
       "    }\n",
       "\n",
       "    .dataframe thead th {\n",
       "        text-align: right;\n",
       "    }\n",
       "</style>\n",
       "<table border=\"1\" class=\"dataframe\">\n",
       "  <thead>\n",
       "    <tr style=\"text-align: right;\">\n",
       "      <th></th>\n",
       "      <th>Unnamed: 0</th>\n",
       "      <th>goal</th>\n",
       "      <th>staff_pick</th>\n",
       "      <th>slug_length</th>\n",
       "      <th>state_bool</th>\n",
       "      <th>campaign_days</th>\n",
       "      <th>creation_to_launch_days</th>\n",
       "      <th>country_AT</th>\n",
       "      <th>country_AU</th>\n",
       "      <th>country_BE</th>\n",
       "      <th>...</th>\n",
       "      <th>deadline_month_May</th>\n",
       "      <th>deadline_month_November</th>\n",
       "      <th>deadline_month_October</th>\n",
       "      <th>deadline_month_September</th>\n",
       "      <th>name_sentiment_negative</th>\n",
       "      <th>name_sentiment_neutral</th>\n",
       "      <th>name_sentiment_positive</th>\n",
       "      <th>blurb_sentiment_negative</th>\n",
       "      <th>blurb_sentiment_neutral</th>\n",
       "      <th>blurb_sentiment_positive</th>\n",
       "    </tr>\n",
       "  </thead>\n",
       "  <tbody>\n",
       "    <tr>\n",
       "      <th>0</th>\n",
       "      <td>0</td>\n",
       "      <td>5000.0</td>\n",
       "      <td>1</td>\n",
       "      <td>33</td>\n",
       "      <td>1</td>\n",
       "      <td>30.0</td>\n",
       "      <td>9.0</td>\n",
       "      <td>0</td>\n",
       "      <td>0</td>\n",
       "      <td>0</td>\n",
       "      <td>...</td>\n",
       "      <td>0</td>\n",
       "      <td>0</td>\n",
       "      <td>0</td>\n",
       "      <td>0</td>\n",
       "      <td>0</td>\n",
       "      <td>0</td>\n",
       "      <td>1</td>\n",
       "      <td>0</td>\n",
       "      <td>0</td>\n",
       "      <td>1</td>\n",
       "    </tr>\n",
       "    <tr>\n",
       "      <th>1</th>\n",
       "      <td>1</td>\n",
       "      <td>24042.0</td>\n",
       "      <td>1</td>\n",
       "      <td>34</td>\n",
       "      <td>1</td>\n",
       "      <td>27.0</td>\n",
       "      <td>20.0</td>\n",
       "      <td>0</td>\n",
       "      <td>0</td>\n",
       "      <td>0</td>\n",
       "      <td>...</td>\n",
       "      <td>0</td>\n",
       "      <td>0</td>\n",
       "      <td>0</td>\n",
       "      <td>0</td>\n",
       "      <td>0</td>\n",
       "      <td>0</td>\n",
       "      <td>1</td>\n",
       "      <td>0</td>\n",
       "      <td>0</td>\n",
       "      <td>1</td>\n",
       "    </tr>\n",
       "    <tr>\n",
       "      <th>2</th>\n",
       "      <td>2</td>\n",
       "      <td>4000.0</td>\n",
       "      <td>0</td>\n",
       "      <td>8</td>\n",
       "      <td>0</td>\n",
       "      <td>60.0</td>\n",
       "      <td>1.0</td>\n",
       "      <td>0</td>\n",
       "      <td>0</td>\n",
       "      <td>0</td>\n",
       "      <td>...</td>\n",
       "      <td>0</td>\n",
       "      <td>0</td>\n",
       "      <td>0</td>\n",
       "      <td>0</td>\n",
       "      <td>1</td>\n",
       "      <td>0</td>\n",
       "      <td>0</td>\n",
       "      <td>1</td>\n",
       "      <td>0</td>\n",
       "      <td>0</td>\n",
       "    </tr>\n",
       "    <tr>\n",
       "      <th>3</th>\n",
       "      <td>3</td>\n",
       "      <td>500.0</td>\n",
       "      <td>0</td>\n",
       "      <td>29</td>\n",
       "      <td>1</td>\n",
       "      <td>19.0</td>\n",
       "      <td>8.0</td>\n",
       "      <td>0</td>\n",
       "      <td>0</td>\n",
       "      <td>0</td>\n",
       "      <td>...</td>\n",
       "      <td>0</td>\n",
       "      <td>0</td>\n",
       "      <td>0</td>\n",
       "      <td>0</td>\n",
       "      <td>0</td>\n",
       "      <td>0</td>\n",
       "      <td>1</td>\n",
       "      <td>1</td>\n",
       "      <td>0</td>\n",
       "      <td>0</td>\n",
       "    </tr>\n",
       "    <tr>\n",
       "      <th>4</th>\n",
       "      <td>4</td>\n",
       "      <td>2500.0</td>\n",
       "      <td>0</td>\n",
       "      <td>26</td>\n",
       "      <td>1</td>\n",
       "      <td>30.0</td>\n",
       "      <td>0.0</td>\n",
       "      <td>0</td>\n",
       "      <td>0</td>\n",
       "      <td>0</td>\n",
       "      <td>...</td>\n",
       "      <td>0</td>\n",
       "      <td>0</td>\n",
       "      <td>0</td>\n",
       "      <td>0</td>\n",
       "      <td>0</td>\n",
       "      <td>0</td>\n",
       "      <td>1</td>\n",
       "      <td>0</td>\n",
       "      <td>0</td>\n",
       "      <td>1</td>\n",
       "    </tr>\n",
       "  </tbody>\n",
       "</table>\n",
       "<p>5 rows × 83 columns</p>\n",
       "</div>"
      ],
      "text/plain": [
       "   Unnamed: 0     goal  staff_pick  slug_length  state_bool  campaign_days  \\\n",
       "0           0   5000.0           1           33           1           30.0   \n",
       "1           1  24042.0           1           34           1           27.0   \n",
       "2           2   4000.0           0            8           0           60.0   \n",
       "3           3    500.0           0           29           1           19.0   \n",
       "4           4   2500.0           0           26           1           30.0   \n",
       "\n",
       "   creation_to_launch_days  country_AT  country_AU  country_BE  ...  \\\n",
       "0                      9.0           0           0           0  ...   \n",
       "1                     20.0           0           0           0  ...   \n",
       "2                      1.0           0           0           0  ...   \n",
       "3                      8.0           0           0           0  ...   \n",
       "4                      0.0           0           0           0  ...   \n",
       "\n",
       "   deadline_month_May  deadline_month_November  deadline_month_October  \\\n",
       "0                   0                        0                       0   \n",
       "1                   0                        0                       0   \n",
       "2                   0                        0                       0   \n",
       "3                   0                        0                       0   \n",
       "4                   0                        0                       0   \n",
       "\n",
       "   deadline_month_September  name_sentiment_negative  name_sentiment_neutral  \\\n",
       "0                         0                        0                       0   \n",
       "1                         0                        0                       0   \n",
       "2                         0                        1                       0   \n",
       "3                         0                        0                       0   \n",
       "4                         0                        0                       0   \n",
       "\n",
       "   name_sentiment_positive  blurb_sentiment_negative  blurb_sentiment_neutral  \\\n",
       "0                        1                         0                        0   \n",
       "1                        1                         0                        0   \n",
       "2                        0                         1                        0   \n",
       "3                        1                         1                        0   \n",
       "4                        1                         0                        0   \n",
       "\n",
       "   blurb_sentiment_positive  \n",
       "0                         1  \n",
       "1                         1  \n",
       "2                         0  \n",
       "3                         0  \n",
       "4                         1  \n",
       "\n",
       "[5 rows x 83 columns]"
      ]
     },
     "execution_count": 11,
     "metadata": {},
     "output_type": "execute_result"
    }
   ],
   "source": [
    "df_model = pd.read_csv(\"final_cleaned_data_ML_sentiments.csv\")\n",
    "df_model.head()"
   ]
  },
  {
   "cell_type": "code",
   "execution_count": 12,
   "metadata": {},
   "outputs": [],
   "source": [
    "df_model.drop(['Unnamed: 0'], inplace=True, axis=1)"
   ]
  },
  {
   "cell_type": "code",
   "execution_count": 13,
   "metadata": {},
   "outputs": [
    {
     "data": {
      "text/plain": [
       "Index(['goal', 'staff_pick', 'slug_length', 'state_bool', 'campaign_days',\n",
       "       'creation_to_launch_days', 'country_AT', 'country_AU', 'country_BE',\n",
       "       'country_CA', 'country_CH', 'country_DE', 'country_DK', 'country_ES',\n",
       "       'country_FR', 'country_GB', 'country_HK', 'country_IE', 'country_IT',\n",
       "       'country_JP', 'country_LU', 'country_MX', 'country_NL', 'country_NO',\n",
       "       'country_NZ', 'country_SE', 'country_SG', 'country_US', 'category_art',\n",
       "       'category_comics', 'category_crafts', 'category_dance',\n",
       "       'category_design', 'category_fashion', 'category_film & video',\n",
       "       'category_food', 'category_games', 'category_journalism',\n",
       "       'category_music', 'category_photography', 'category_publishing',\n",
       "       'category_technology', 'category_theater', 'blurb_length',\n",
       "       'name_length', 'launch_month_1', 'launch_month_2', 'launch_month_3',\n",
       "       'launch_month_4', 'launch_month_5', 'launch_month_6', 'launch_month_7',\n",
       "       'launch_month_8', 'launch_month_9', 'launch_month_10',\n",
       "       'launch_month_11', 'launch_month_12', 'launch_day_0', 'launch_day_1',\n",
       "       'launch_day_2', 'launch_day_3', 'launch_day_4', 'launch_day_5',\n",
       "       'launch_day_6', 'deadline_month_April', 'deadline_month_August',\n",
       "       'deadline_month_December', 'deadline_month_February',\n",
       "       'deadline_month_January', 'deadline_month_July', 'deadline_month_June',\n",
       "       'deadline_month_March', 'deadline_month_May', 'deadline_month_November',\n",
       "       'deadline_month_October', 'deadline_month_September',\n",
       "       'name_sentiment_negative', 'name_sentiment_neutral',\n",
       "       'name_sentiment_positive', 'blurb_sentiment_negative',\n",
       "       'blurb_sentiment_neutral', 'blurb_sentiment_positive'],\n",
       "      dtype='object')"
      ]
     },
     "execution_count": 13,
     "metadata": {},
     "output_type": "execute_result"
    }
   ],
   "source": [
    "df_model.columns"
   ]
  },
  {
   "cell_type": "code",
   "execution_count": 14,
   "metadata": {},
   "outputs": [
    {
     "name": "stdout",
     "output_type": "stream",
     "text": [
      "Length of X_temp is 169962\n",
      "Length of y is 169962\n"
     ]
    }
   ],
   "source": [
    "X_temp = df_model.drop(['state_bool'], axis=1)\n",
    "y = df_model.state_bool\n",
    "\n",
    "print(\"Length of X_temp is {}\".format(len(X_temp)))\n",
    "print(\"Length of y is {}\".format(len(y)))"
   ]
  },
  {
   "cell_type": "code",
   "execution_count": 15,
   "metadata": {},
   "outputs": [
    {
     "data": {
      "text/html": [
       "<div>\n",
       "<style scoped>\n",
       "    .dataframe tbody tr th:only-of-type {\n",
       "        vertical-align: middle;\n",
       "    }\n",
       "\n",
       "    .dataframe tbody tr th {\n",
       "        vertical-align: top;\n",
       "    }\n",
       "\n",
       "    .dataframe thead th {\n",
       "        text-align: right;\n",
       "    }\n",
       "</style>\n",
       "<table border=\"1\" class=\"dataframe\">\n",
       "  <thead>\n",
       "    <tr style=\"text-align: right;\">\n",
       "      <th></th>\n",
       "      <th>goal</th>\n",
       "      <th>staff_pick</th>\n",
       "      <th>slug_length</th>\n",
       "      <th>campaign_days</th>\n",
       "      <th>creation_to_launch_days</th>\n",
       "      <th>country_AT</th>\n",
       "      <th>country_AU</th>\n",
       "      <th>country_BE</th>\n",
       "      <th>country_CA</th>\n",
       "      <th>country_CH</th>\n",
       "      <th>...</th>\n",
       "      <th>deadline_month_May</th>\n",
       "      <th>deadline_month_November</th>\n",
       "      <th>deadline_month_October</th>\n",
       "      <th>deadline_month_September</th>\n",
       "      <th>name_sentiment_negative</th>\n",
       "      <th>name_sentiment_neutral</th>\n",
       "      <th>name_sentiment_positive</th>\n",
       "      <th>blurb_sentiment_negative</th>\n",
       "      <th>blurb_sentiment_neutral</th>\n",
       "      <th>blurb_sentiment_positive</th>\n",
       "    </tr>\n",
       "  </thead>\n",
       "  <tbody>\n",
       "    <tr>\n",
       "      <th>0</th>\n",
       "      <td>5000.0</td>\n",
       "      <td>1</td>\n",
       "      <td>33</td>\n",
       "      <td>30.0</td>\n",
       "      <td>9.0</td>\n",
       "      <td>0</td>\n",
       "      <td>0</td>\n",
       "      <td>0</td>\n",
       "      <td>0</td>\n",
       "      <td>0</td>\n",
       "      <td>...</td>\n",
       "      <td>0</td>\n",
       "      <td>0</td>\n",
       "      <td>0</td>\n",
       "      <td>0</td>\n",
       "      <td>0</td>\n",
       "      <td>0</td>\n",
       "      <td>1</td>\n",
       "      <td>0</td>\n",
       "      <td>0</td>\n",
       "      <td>1</td>\n",
       "    </tr>\n",
       "    <tr>\n",
       "      <th>1</th>\n",
       "      <td>24042.0</td>\n",
       "      <td>1</td>\n",
       "      <td>34</td>\n",
       "      <td>27.0</td>\n",
       "      <td>20.0</td>\n",
       "      <td>0</td>\n",
       "      <td>0</td>\n",
       "      <td>0</td>\n",
       "      <td>0</td>\n",
       "      <td>0</td>\n",
       "      <td>...</td>\n",
       "      <td>0</td>\n",
       "      <td>0</td>\n",
       "      <td>0</td>\n",
       "      <td>0</td>\n",
       "      <td>0</td>\n",
       "      <td>0</td>\n",
       "      <td>1</td>\n",
       "      <td>0</td>\n",
       "      <td>0</td>\n",
       "      <td>1</td>\n",
       "    </tr>\n",
       "    <tr>\n",
       "      <th>2</th>\n",
       "      <td>4000.0</td>\n",
       "      <td>0</td>\n",
       "      <td>8</td>\n",
       "      <td>60.0</td>\n",
       "      <td>1.0</td>\n",
       "      <td>0</td>\n",
       "      <td>0</td>\n",
       "      <td>0</td>\n",
       "      <td>0</td>\n",
       "      <td>0</td>\n",
       "      <td>...</td>\n",
       "      <td>0</td>\n",
       "      <td>0</td>\n",
       "      <td>0</td>\n",
       "      <td>0</td>\n",
       "      <td>1</td>\n",
       "      <td>0</td>\n",
       "      <td>0</td>\n",
       "      <td>1</td>\n",
       "      <td>0</td>\n",
       "      <td>0</td>\n",
       "    </tr>\n",
       "    <tr>\n",
       "      <th>3</th>\n",
       "      <td>500.0</td>\n",
       "      <td>0</td>\n",
       "      <td>29</td>\n",
       "      <td>19.0</td>\n",
       "      <td>8.0</td>\n",
       "      <td>0</td>\n",
       "      <td>0</td>\n",
       "      <td>0</td>\n",
       "      <td>0</td>\n",
       "      <td>0</td>\n",
       "      <td>...</td>\n",
       "      <td>0</td>\n",
       "      <td>0</td>\n",
       "      <td>0</td>\n",
       "      <td>0</td>\n",
       "      <td>0</td>\n",
       "      <td>0</td>\n",
       "      <td>1</td>\n",
       "      <td>1</td>\n",
       "      <td>0</td>\n",
       "      <td>0</td>\n",
       "    </tr>\n",
       "    <tr>\n",
       "      <th>4</th>\n",
       "      <td>2500.0</td>\n",
       "      <td>0</td>\n",
       "      <td>26</td>\n",
       "      <td>30.0</td>\n",
       "      <td>0.0</td>\n",
       "      <td>0</td>\n",
       "      <td>0</td>\n",
       "      <td>0</td>\n",
       "      <td>0</td>\n",
       "      <td>0</td>\n",
       "      <td>...</td>\n",
       "      <td>0</td>\n",
       "      <td>0</td>\n",
       "      <td>0</td>\n",
       "      <td>0</td>\n",
       "      <td>0</td>\n",
       "      <td>0</td>\n",
       "      <td>1</td>\n",
       "      <td>0</td>\n",
       "      <td>0</td>\n",
       "      <td>1</td>\n",
       "    </tr>\n",
       "  </tbody>\n",
       "</table>\n",
       "<p>5 rows × 81 columns</p>\n",
       "</div>"
      ],
      "text/plain": [
       "      goal  staff_pick  slug_length  campaign_days  creation_to_launch_days  \\\n",
       "0   5000.0           1           33           30.0                      9.0   \n",
       "1  24042.0           1           34           27.0                     20.0   \n",
       "2   4000.0           0            8           60.0                      1.0   \n",
       "3    500.0           0           29           19.0                      8.0   \n",
       "4   2500.0           0           26           30.0                      0.0   \n",
       "\n",
       "   country_AT  country_AU  country_BE  country_CA  country_CH  ...  \\\n",
       "0           0           0           0           0           0  ...   \n",
       "1           0           0           0           0           0  ...   \n",
       "2           0           0           0           0           0  ...   \n",
       "3           0           0           0           0           0  ...   \n",
       "4           0           0           0           0           0  ...   \n",
       "\n",
       "   deadline_month_May  deadline_month_November  deadline_month_October  \\\n",
       "0                   0                        0                       0   \n",
       "1                   0                        0                       0   \n",
       "2                   0                        0                       0   \n",
       "3                   0                        0                       0   \n",
       "4                   0                        0                       0   \n",
       "\n",
       "   deadline_month_September  name_sentiment_negative  name_sentiment_neutral  \\\n",
       "0                         0                        0                       0   \n",
       "1                         0                        0                       0   \n",
       "2                         0                        1                       0   \n",
       "3                         0                        0                       0   \n",
       "4                         0                        0                       0   \n",
       "\n",
       "   name_sentiment_positive  blurb_sentiment_negative  blurb_sentiment_neutral  \\\n",
       "0                        1                         0                        0   \n",
       "1                        1                         0                        0   \n",
       "2                        0                         1                        0   \n",
       "3                        1                         1                        0   \n",
       "4                        1                         0                        0   \n",
       "\n",
       "   blurb_sentiment_positive  \n",
       "0                         1  \n",
       "1                         1  \n",
       "2                         0  \n",
       "3                         0  \n",
       "4                         1  \n",
       "\n",
       "[5 rows x 81 columns]"
      ]
     },
     "execution_count": 15,
     "metadata": {},
     "output_type": "execute_result"
    }
   ],
   "source": [
    "X_temp.head()"
   ]
  },
  {
   "cell_type": "code",
   "execution_count": 16,
   "metadata": {},
   "outputs": [
    {
     "data": {
      "text/plain": [
       "1    96768\n",
       "0    73194\n",
       "Name: state_bool, dtype: int64"
      ]
     },
     "execution_count": 16,
     "metadata": {},
     "output_type": "execute_result"
    }
   ],
   "source": [
    "y.value_counts()"
   ]
  },
  {
   "cell_type": "code",
   "execution_count": 17,
   "metadata": {},
   "outputs": [],
   "source": [
    "##########Pre-processing############\n",
    "########### Standardizing the data ################\n",
    "from sklearn.preprocessing import StandardScaler\n",
    "scaler = StandardScaler()\n",
    "\n",
    "X = pd.DataFrame(scaler.fit_transform(X_temp), columns=list(X_temp.columns))"
   ]
  },
  {
   "cell_type": "code",
   "execution_count": 18,
   "metadata": {},
   "outputs": [
    {
     "data": {
      "text/html": [
       "<div>\n",
       "<style scoped>\n",
       "    .dataframe tbody tr th:only-of-type {\n",
       "        vertical-align: middle;\n",
       "    }\n",
       "\n",
       "    .dataframe tbody tr th {\n",
       "        vertical-align: top;\n",
       "    }\n",
       "\n",
       "    .dataframe thead th {\n",
       "        text-align: right;\n",
       "    }\n",
       "</style>\n",
       "<table border=\"1\" class=\"dataframe\">\n",
       "  <thead>\n",
       "    <tr style=\"text-align: right;\">\n",
       "      <th></th>\n",
       "      <th>goal</th>\n",
       "      <th>staff_pick</th>\n",
       "      <th>slug_length</th>\n",
       "      <th>campaign_days</th>\n",
       "      <th>creation_to_launch_days</th>\n",
       "      <th>country_AT</th>\n",
       "      <th>country_AU</th>\n",
       "      <th>country_BE</th>\n",
       "      <th>country_CA</th>\n",
       "      <th>country_CH</th>\n",
       "      <th>...</th>\n",
       "      <th>deadline_month_May</th>\n",
       "      <th>deadline_month_November</th>\n",
       "      <th>deadline_month_October</th>\n",
       "      <th>deadline_month_September</th>\n",
       "      <th>name_sentiment_negative</th>\n",
       "      <th>name_sentiment_neutral</th>\n",
       "      <th>name_sentiment_positive</th>\n",
       "      <th>blurb_sentiment_negative</th>\n",
       "      <th>blurb_sentiment_neutral</th>\n",
       "      <th>blurb_sentiment_positive</th>\n",
       "    </tr>\n",
       "  </thead>\n",
       "  <tbody>\n",
       "    <tr>\n",
       "      <th>0</th>\n",
       "      <td>-0.037708</td>\n",
       "      <td>2.601522</td>\n",
       "      <td>0.056000</td>\n",
       "      <td>-0.226036</td>\n",
       "      <td>-0.293315</td>\n",
       "      <td>-0.047648</td>\n",
       "      <td>-0.153349</td>\n",
       "      <td>-0.052321</td>\n",
       "      <td>-0.21914</td>\n",
       "      <td>-0.056822</td>\n",
       "      <td>...</td>\n",
       "      <td>-0.321401</td>\n",
       "      <td>-0.299177</td>\n",
       "      <td>-0.293669</td>\n",
       "      <td>-0.288137</td>\n",
       "      <td>-0.757598</td>\n",
       "      <td>-0.072636</td>\n",
       "      <td>0.766202</td>\n",
       "      <td>-0.701544</td>\n",
       "      <td>-0.060947</td>\n",
       "      <td>0.707425</td>\n",
       "    </tr>\n",
       "    <tr>\n",
       "      <th>1</th>\n",
       "      <td>-0.021615</td>\n",
       "      <td>2.601522</td>\n",
       "      <td>0.129005</td>\n",
       "      <td>-0.479827</td>\n",
       "      <td>-0.209304</td>\n",
       "      <td>-0.047648</td>\n",
       "      <td>-0.153349</td>\n",
       "      <td>-0.052321</td>\n",
       "      <td>-0.21914</td>\n",
       "      <td>-0.056822</td>\n",
       "      <td>...</td>\n",
       "      <td>-0.321401</td>\n",
       "      <td>-0.299177</td>\n",
       "      <td>-0.293669</td>\n",
       "      <td>-0.288137</td>\n",
       "      <td>-0.757598</td>\n",
       "      <td>-0.072636</td>\n",
       "      <td>0.766202</td>\n",
       "      <td>-0.701544</td>\n",
       "      <td>-0.060947</td>\n",
       "      <td>0.707425</td>\n",
       "    </tr>\n",
       "    <tr>\n",
       "      <th>2</th>\n",
       "      <td>-0.038553</td>\n",
       "      <td>-0.384390</td>\n",
       "      <td>-1.769120</td>\n",
       "      <td>2.311867</td>\n",
       "      <td>-0.354413</td>\n",
       "      <td>-0.047648</td>\n",
       "      <td>-0.153349</td>\n",
       "      <td>-0.052321</td>\n",
       "      <td>-0.21914</td>\n",
       "      <td>-0.056822</td>\n",
       "      <td>...</td>\n",
       "      <td>-0.321401</td>\n",
       "      <td>-0.299177</td>\n",
       "      <td>-0.293669</td>\n",
       "      <td>-0.288137</td>\n",
       "      <td>1.319960</td>\n",
       "      <td>-0.072636</td>\n",
       "      <td>-1.305139</td>\n",
       "      <td>1.425427</td>\n",
       "      <td>-0.060947</td>\n",
       "      <td>-1.413577</td>\n",
       "    </tr>\n",
       "    <tr>\n",
       "      <th>3</th>\n",
       "      <td>-0.041511</td>\n",
       "      <td>-0.384390</td>\n",
       "      <td>-0.236019</td>\n",
       "      <td>-1.156601</td>\n",
       "      <td>-0.300952</td>\n",
       "      <td>-0.047648</td>\n",
       "      <td>-0.153349</td>\n",
       "      <td>-0.052321</td>\n",
       "      <td>-0.21914</td>\n",
       "      <td>-0.056822</td>\n",
       "      <td>...</td>\n",
       "      <td>-0.321401</td>\n",
       "      <td>-0.299177</td>\n",
       "      <td>-0.293669</td>\n",
       "      <td>-0.288137</td>\n",
       "      <td>-0.757598</td>\n",
       "      <td>-0.072636</td>\n",
       "      <td>0.766202</td>\n",
       "      <td>1.425427</td>\n",
       "      <td>-0.060947</td>\n",
       "      <td>-1.413577</td>\n",
       "    </tr>\n",
       "    <tr>\n",
       "      <th>4</th>\n",
       "      <td>-0.039821</td>\n",
       "      <td>-0.384390</td>\n",
       "      <td>-0.455033</td>\n",
       "      <td>-0.226036</td>\n",
       "      <td>-0.362051</td>\n",
       "      <td>-0.047648</td>\n",
       "      <td>-0.153349</td>\n",
       "      <td>-0.052321</td>\n",
       "      <td>-0.21914</td>\n",
       "      <td>-0.056822</td>\n",
       "      <td>...</td>\n",
       "      <td>-0.321401</td>\n",
       "      <td>-0.299177</td>\n",
       "      <td>-0.293669</td>\n",
       "      <td>-0.288137</td>\n",
       "      <td>-0.757598</td>\n",
       "      <td>-0.072636</td>\n",
       "      <td>0.766202</td>\n",
       "      <td>-0.701544</td>\n",
       "      <td>-0.060947</td>\n",
       "      <td>0.707425</td>\n",
       "    </tr>\n",
       "  </tbody>\n",
       "</table>\n",
       "<p>5 rows × 81 columns</p>\n",
       "</div>"
      ],
      "text/plain": [
       "       goal  staff_pick  slug_length  campaign_days  creation_to_launch_days  \\\n",
       "0 -0.037708    2.601522     0.056000      -0.226036                -0.293315   \n",
       "1 -0.021615    2.601522     0.129005      -0.479827                -0.209304   \n",
       "2 -0.038553   -0.384390    -1.769120       2.311867                -0.354413   \n",
       "3 -0.041511   -0.384390    -0.236019      -1.156601                -0.300952   \n",
       "4 -0.039821   -0.384390    -0.455033      -0.226036                -0.362051   \n",
       "\n",
       "   country_AT  country_AU  country_BE  country_CA  country_CH  ...  \\\n",
       "0   -0.047648   -0.153349   -0.052321    -0.21914   -0.056822  ...   \n",
       "1   -0.047648   -0.153349   -0.052321    -0.21914   -0.056822  ...   \n",
       "2   -0.047648   -0.153349   -0.052321    -0.21914   -0.056822  ...   \n",
       "3   -0.047648   -0.153349   -0.052321    -0.21914   -0.056822  ...   \n",
       "4   -0.047648   -0.153349   -0.052321    -0.21914   -0.056822  ...   \n",
       "\n",
       "   deadline_month_May  deadline_month_November  deadline_month_October  \\\n",
       "0           -0.321401                -0.299177               -0.293669   \n",
       "1           -0.321401                -0.299177               -0.293669   \n",
       "2           -0.321401                -0.299177               -0.293669   \n",
       "3           -0.321401                -0.299177               -0.293669   \n",
       "4           -0.321401                -0.299177               -0.293669   \n",
       "\n",
       "   deadline_month_September  name_sentiment_negative  name_sentiment_neutral  \\\n",
       "0                 -0.288137                -0.757598               -0.072636   \n",
       "1                 -0.288137                -0.757598               -0.072636   \n",
       "2                 -0.288137                 1.319960               -0.072636   \n",
       "3                 -0.288137                -0.757598               -0.072636   \n",
       "4                 -0.288137                -0.757598               -0.072636   \n",
       "\n",
       "   name_sentiment_positive  blurb_sentiment_negative  blurb_sentiment_neutral  \\\n",
       "0                 0.766202                 -0.701544                -0.060947   \n",
       "1                 0.766202                 -0.701544                -0.060947   \n",
       "2                -1.305139                  1.425427                -0.060947   \n",
       "3                 0.766202                  1.425427                -0.060947   \n",
       "4                 0.766202                 -0.701544                -0.060947   \n",
       "\n",
       "   blurb_sentiment_positive  \n",
       "0                  0.707425  \n",
       "1                  0.707425  \n",
       "2                 -1.413577  \n",
       "3                 -1.413577  \n",
       "4                  0.707425  \n",
       "\n",
       "[5 rows x 81 columns]"
      ]
     },
     "execution_count": 18,
     "metadata": {},
     "output_type": "execute_result"
    }
   ],
   "source": [
    "X.head()"
   ]
  },
  {
   "cell_type": "code",
   "execution_count": 19,
   "metadata": {},
   "outputs": [
    {
     "name": "stdout",
     "output_type": "stream",
     "text": [
      "Length of training set is 118973\n",
      "Length of test set is 50989\n",
      "Shape of X_train is (118973, 81)\n",
      "Shape of y_train is (118973,)\n",
      "Shape of X_test is (50989, 81)\n",
      "Shape of y_test is (50989,)\n"
     ]
    }
   ],
   "source": [
    "from sklearn.model_selection import train_test_split\n",
    "X_train, X_test, y_train, y_test = train_test_split(X, y, test_size=0.3, random_state=42)\n",
    "\n",
    "print(\"Length of training set is {}\".format(len(X_train)))\n",
    "print(\"Length of test set is {}\".format(len(X_test)))\n",
    "\n",
    "print(\"Shape of X_train is {}\".format(X_train.shape))\n",
    "print(\"Shape of y_train is {}\".format(y_train.shape))\n",
    "print(\"Shape of X_test is {}\".format(X_test.shape))\n",
    "print(\"Shape of y_test is {}\".format(y_test.shape))"
   ]
  },
  {
   "cell_type": "code",
   "execution_count": 34,
   "metadata": {},
   "outputs": [
    {
     "name": "stderr",
     "output_type": "stream",
     "text": [
      "C:\\Users\\akhil\\Anaconda3\\lib\\site-packages\\sklearn\\linear_model\\logistic.py:432: FutureWarning: Default solver will be changed to 'lbfgs' in 0.22. Specify a solver to silence this warning.\n",
      "  FutureWarning)\n"
     ]
    },
    {
     "data": {
      "text/plain": [
       "LogisticRegression(C=1.0, class_weight=None, dual=False, fit_intercept=True,\n",
       "                   intercept_scaling=1, l1_ratio=None, max_iter=100,\n",
       "                   multi_class='warn', n_jobs=None, penalty='l2',\n",
       "                   random_state=None, solver='warn', tol=0.0001, verbose=0,\n",
       "                   warm_start=False)"
      ]
     },
     "execution_count": 34,
     "metadata": {},
     "output_type": "execute_result"
    }
   ],
   "source": [
    "############## Logistic Regression Model ##############\n",
    "from sklearn.linear_model import LogisticRegression\n",
    "\n",
    "logisticRegr = LogisticRegression()\n",
    "logisticRegr.fit(X_train, y_train)"
   ]
  },
  {
   "cell_type": "code",
   "execution_count": 35,
   "metadata": {},
   "outputs": [],
   "source": [
    "y_pred = logisticRegr.predict(X_test)"
   ]
  },
  {
   "cell_type": "code",
   "execution_count": 36,
   "metadata": {},
   "outputs": [
    {
     "data": {
      "text/plain": [
       "0.7492792563101845"
      ]
     },
     "execution_count": 36,
     "metadata": {},
     "output_type": "execute_result"
    }
   ],
   "source": [
    "from sklearn import metrics\n",
    "metrics.accuracy_score(y_test, y_pred)"
   ]
  },
  {
   "cell_type": "code",
   "execution_count": 37,
   "metadata": {},
   "outputs": [
    {
     "name": "stdout",
     "output_type": "stream",
     "text": [
      "0.7492792563101845\n"
     ]
    }
   ],
   "source": [
    "score = logisticRegr.score(X_test, y_test)\n",
    "print(score)"
   ]
  },
  {
   "cell_type": "code",
   "execution_count": 38,
   "metadata": {},
   "outputs": [
    {
     "name": "stdout",
     "output_type": "stream",
     "text": [
      "              precision    recall  f1-score   support\n",
      "\n",
      "           0       0.74      0.64      0.69     21785\n",
      "           1       0.76      0.83      0.79     29204\n",
      "\n",
      "    accuracy                           0.75     50989\n",
      "   macro avg       0.75      0.74      0.74     50989\n",
      "weighted avg       0.75      0.75      0.75     50989\n",
      "\n"
     ]
    }
   ],
   "source": [
    "from sklearn.metrics import classification_report\n",
    "print(classification_report(y_test, y_pred))"
   ]
  },
  {
   "cell_type": "code",
   "execution_count": 39,
   "metadata": {},
   "outputs": [
    {
     "data": {
      "image/png": "[encoded data removed]",
      "text/plain": [
       "<Figure size 360x360 with 2 Axes>"
      ]
     },
     "metadata": {
      "needs_background": "light"
     },
     "output_type": "display_data"
    }
   ],
   "source": [
    "###### To plot the confusion matrix ############\n",
    "import matplotlib.pyplot as plt\n",
    "import seaborn as sns\n",
    "from sklearn import metrics\n",
    "\n",
    "\n",
    "import matplotlib.pyplot as plt\n",
    "import seaborn as sns\n",
    "from sklearn import metrics\n",
    "\n",
    "cm = metrics.confusion_matrix(y_test, y_pred)\n",
    "\n",
    "plt.figure(figsize=(5,5))\n",
    "sns.heatmap(cm, annot=True, fmt=\".3f\", linewidths=.5, square = True, cmap = 'Blues_r');\n",
    "plt.ylabel('Actual label');\n",
    "plt.xlabel('Predicted label');\n",
    "all_sample_title = 'Accuracy Score: {0}'.format(metrics.accuracy_score(y_test, y_pred).round(4))\n",
    "plt.title(all_sample_title, size = 15);"
   ]
  },
  {
   "cell_type": "code",
   "execution_count": 20,
   "metadata": {},
   "outputs": [
    {
     "data": {
      "text/plain": [
       "SVC(C=1.0, cache_size=200, class_weight=None, coef0=0.0,\n",
       "    decision_function_shape='ovr', degree=3, gamma='scale', kernel='rbf',\n",
       "    max_iter=-1, probability=False, random_state=None, shrinking=True,\n",
       "    tol=0.001, verbose=False)"
      ]
     },
     "execution_count": 20,
     "metadata": {},
     "output_type": "execute_result"
    }
   ],
   "source": [
    "from sklearn.svm import SVC\n",
    "clf = SVC(gamma='scale')\n",
    "clf.fit(X_train, y_train)"
   ]
  },
  {
   "cell_type": "code",
   "execution_count": 21,
   "metadata": {},
   "outputs": [
    {
     "name": "stdout",
     "output_type": "stream",
     "text": [
      "              precision    recall  f1-score   support\n",
      "\n",
      "           0       0.72      0.64      0.68     21785\n",
      "           1       0.75      0.81      0.78     29204\n",
      "\n",
      "    accuracy                           0.74     50989\n",
      "   macro avg       0.74      0.73      0.73     50989\n",
      "weighted avg       0.74      0.74      0.74     50989\n",
      "\n"
     ]
    }
   ],
   "source": [
    "y_pred = clf.predict(X_test)\n",
    "\n",
    "from sklearn.metrics import classification_report\n",
    "print(classification_report(y_test, y_pred))"
   ]
  },
  {
   "cell_type": "code",
   "execution_count": 22,
   "metadata": {},
   "outputs": [
    {
     "data": {
      "image/png": "[encoded data removed]",
      "text/plain": [
       "<Figure size 360x360 with 2 Axes>"
      ]
     },
     "metadata": {
      "needs_background": "light"
     },
     "output_type": "display_data"
    }
   ],
   "source": [
    "import matplotlib.pyplot as plt\n",
    "import seaborn as sns\n",
    "from sklearn import metrics\n",
    "\n",
    "cm = metrics.confusion_matrix(y_test, y_pred)\n",
    "\n",
    "plt.figure(figsize=(5,5))\n",
    "sns.heatmap(cm, annot=True, fmt=\".3f\", linewidths=.5, square = True, cmap = 'Blues_r');\n",
    "plt.ylabel('Actual label');\n",
    "plt.xlabel('Predicted label');\n",
    "all_sample_title = 'Accuracy Score: {0}'.format(metrics.accuracy_score(y_test, y_pred).round(4))\n",
    "plt.title(all_sample_title, size = 15);"
   ]
  },
  {
   "cell_type": "code",
   "execution_count": 40,
   "metadata": {},
   "outputs": [],
   "source": [
    "####### Decision trees ##############\n",
    "from sklearn import tree\n",
    "clf = tree.DecisionTreeClassifier()\n",
    "clf = clf.fit(X_train, y_train)"
   ]
  },
  {
   "cell_type": "code",
   "execution_count": 41,
   "metadata": {},
   "outputs": [
    {
     "name": "stdout",
     "output_type": "stream",
     "text": [
      "Results for Decision tree with sentiments\n"
     ]
    },
    {
     "data": {
      "text/plain": [
       "0.6822844142854341"
      ]
     },
     "execution_count": 41,
     "metadata": {},
     "output_type": "execute_result"
    }
   ],
   "source": [
    "y_pred = clf.predict(X_test)\n",
    "from sklearn import metrics\n",
    "print(\"Results for Decision tree with sentiments\")\n",
    "metrics.accuracy_score(y_test, y_pred)"
   ]
  },
  {
   "cell_type": "code",
   "execution_count": 42,
   "metadata": {},
   "outputs": [
    {
     "name": "stdout",
     "output_type": "stream",
     "text": [
      "              precision    recall  f1-score   support\n",
      "\n",
      "           0       0.63      0.64      0.63     21785\n",
      "           1       0.73      0.71      0.72     29204\n",
      "\n",
      "    accuracy                           0.68     50989\n",
      "   macro avg       0.68      0.68      0.68     50989\n",
      "weighted avg       0.68      0.68      0.68     50989\n",
      "\n"
     ]
    }
   ],
   "source": [
    "from sklearn.metrics import classification_report\n",
    "print(classification_report(y_test, y_pred))"
   ]
  },
  {
   "cell_type": "code",
   "execution_count": null,
   "metadata": {},
   "outputs": [],
   "source": []
  },
  {
   "cell_type": "code",
   "execution_count": 43,
   "metadata": {
    "scrolled": true
   },
   "outputs": [
    {
     "data": {
      "image/png": "[encoded data removed]",
      "text/plain": [
       "<Figure size 360x360 with 2 Axes>"
      ]
     },
     "metadata": {
      "needs_background": "light"
     },
     "output_type": "display_data"
    }
   ],
   "source": [
    "import matplotlib.pyplot as plt\n",
    "import seaborn as sns\n",
    "from sklearn import metrics\n",
    "\n",
    "cm = metrics.confusion_matrix(y_test, y_pred)\n",
    "\n",
    "plt.figure(figsize=(5,5))\n",
    "sns.heatmap(cm, annot=True, fmt=\".3f\", linewidths=.5, square = True, cmap = 'Blues_r');\n",
    "plt.ylabel('Actual label');\n",
    "plt.xlabel('Predicted label');\n",
    "all_sample_title = 'Accuracy Score: {0}'.format(metrics.accuracy_score(y_test, y_pred).round(4))\n",
    "plt.title(all_sample_title, size = 15);"
   ]
  },
  {
   "cell_type": "code",
   "execution_count": 44,
   "metadata": {},
   "outputs": [
    {
     "data": {
      "text/plain": [
       "RandomForestClassifier(bootstrap=True, class_weight=None, criterion='gini',\n",
       "                       max_depth=None, max_features='auto', max_leaf_nodes=None,\n",
       "                       min_impurity_decrease=0.0, min_impurity_split=None,\n",
       "                       min_samples_leaf=1, min_samples_split=2,\n",
       "                       min_weight_fraction_leaf=0.0, n_estimators=200,\n",
       "                       n_jobs=None, oob_score=False, random_state=None,\n",
       "                       verbose=0, warm_start=False)"
      ]
     },
     "execution_count": 44,
     "metadata": {},
     "output_type": "execute_result"
    }
   ],
   "source": [
    "################ Random Forests ##############3\n",
    "from sklearn.ensemble import RandomForestClassifier\n",
    "\n",
    "#Create a Gaussian Classifier\n",
    "clf=RandomForestClassifier(n_estimators=200)\n",
    "\n",
    "#Train the model using the training sets y_pred=clf.predict(X_test)\n",
    "clf.fit(X_train,y_train)"
   ]
  },
  {
   "cell_type": "code",
   "execution_count": 45,
   "metadata": {},
   "outputs": [],
   "source": [
    "y_pred=clf.predict(X_test)"
   ]
  },
  {
   "cell_type": "code",
   "execution_count": 46,
   "metadata": {},
   "outputs": [
    {
     "name": "stdout",
     "output_type": "stream",
     "text": [
      "              precision    recall  f1-score   support\n",
      "\n",
      "           0       0.76      0.68      0.72     21785\n",
      "           1       0.78      0.84      0.81     29204\n",
      "\n",
      "    accuracy                           0.77     50989\n",
      "   macro avg       0.77      0.76      0.76     50989\n",
      "weighted avg       0.77      0.77      0.77     50989\n",
      "\n"
     ]
    }
   ],
   "source": [
    "from sklearn.metrics import classification_report\n",
    "print(classification_report(y_test, y_pred))"
   ]
  },
  {
   "cell_type": "code",
   "execution_count": 48,
   "metadata": {},
   "outputs": [
    {
     "data": {
      "image/png": "[encoded data removed]",
      "text/plain": [
       "<Figure size 360x360 with 2 Axes>"
      ]
     },
     "metadata": {
      "needs_background": "light"
     },
     "output_type": "display_data"
    }
   ],
   "source": [
    "import matplotlib.pyplot as plt\n",
    "import seaborn as sns\n",
    "from sklearn import metrics\n",
    "\n",
    "\n",
    "cm = metrics.confusion_matrix(y_test, y_pred)\n",
    "plt.figure(figsize=(5,5))\n",
    "sns.heatmap(cm, annot=True, fmt=\".3f\", linewidths=.5, square = True, cmap = 'Blues_r');\n",
    "plt.ylabel('Actual label');\n",
    "plt.xlabel('Predicted label');\n",
    "all_sample_title = 'Accuracy Score: {0}'.format(metrics.accuracy_score(y_test, y_pred).round(4))\n",
    "plt.title(all_sample_title, size = 15);"
   ]
  },
  {
   "cell_type": "code",
   "execution_count": 31,
   "metadata": {},
   "outputs": [
    {
     "data": {
      "text/plain": [
       "RandomForestClassifier(bootstrap=True, class_weight=None, criterion='gini',\n",
       "                       max_depth=None, max_features='auto', max_leaf_nodes=None,\n",
       "                       min_impurity_decrease=0.0, min_impurity_split=None,\n",
       "                       min_samples_leaf=1, min_samples_split=2,\n",
       "                       min_weight_fraction_leaf=0.0, n_estimators=1000,\n",
       "                       n_jobs=None, oob_score=False, random_state=None,\n",
       "                       verbose=0, warm_start=False)"
      ]
     },
     "execution_count": 31,
     "metadata": {},
     "output_type": "execute_result"
    }
   ],
   "source": [
    "################ Random Forests ##############3\n",
    "from sklearn.ensemble import RandomForestClassifier\n",
    "\n",
    "#Create a Gaussian Classifier\n",
    "clf=RandomForestClassifier(n_estimators=1000)\n",
    "\n",
    "#Train the model using the training sets y_pred=clf.predict(X_test)\n",
    "clf.fit(X_train,y_train)"
   ]
  },
  {
   "cell_type": "code",
   "execution_count": 33,
   "metadata": {},
   "outputs": [],
   "source": [
    "y_pred=clf.predict(X_test)"
   ]
  },
  {
   "cell_type": "code",
   "execution_count": 34,
   "metadata": {},
   "outputs": [
    {
     "name": "stdout",
     "output_type": "stream",
     "text": [
      "              precision    recall  f1-score   support\n",
      "\n",
      "           0       0.76      0.68      0.72     21785\n",
      "           1       0.78      0.84      0.81     29204\n",
      "\n",
      "    accuracy                           0.77     50989\n",
      "   macro avg       0.77      0.76      0.77     50989\n",
      "weighted avg       0.77      0.77      0.77     50989\n",
      "\n"
     ]
    }
   ],
   "source": [
    "from sklearn.metrics import classification_report\n",
    "print(classification_report(y_test, y_pred))"
   ]
  },
  {
   "cell_type": "code",
   "execution_count": 35,
   "metadata": {},
   "outputs": [
    {
     "data": {
      "image/png": "[encoded data removed]",
      "text/plain": [
       "<Figure size 360x360 with 2 Axes>"
      ]
     },
     "metadata": {
      "needs_background": "light"
     },
     "output_type": "display_data"
    }
   ],
   "source": [
    "import matplotlib.pyplot as plt\n",
    "import seaborn as sns\n",
    "from sklearn import metrics\n",
    "\n",
    "\n",
    "cm = metrics.confusion_matrix(y_test, y_pred)\n",
    "plt.figure(figsize=(5,5))\n",
    "sns.heatmap(cm, annot=True, fmt=\".3f\", linewidths=.5, square = True, cmap = 'Blues_r');\n",
    "plt.ylabel('Actual label');\n",
    "plt.xlabel('Predicted label');\n",
    "all_sample_title = 'Accuracy Score: {0}'.format(metrics.accuracy_score(y_test, y_pred).round(4))\n",
    "plt.title(all_sample_title, size = 15);"
   ]
  },
  {
   "cell_type": "code",
   "execution_count": null,
   "metadata": {},
   "outputs": [],
   "source": []
  },
  {
   "cell_type": "code",
   "execution_count": 49,
   "metadata": {},
   "outputs": [
    {
     "data": {
      "text/plain": [
       "goal                        0.118765\n",
       "creation_to_launch_days     0.091997\n",
       "blurb_length                0.071460\n",
       "name_length                 0.069452\n",
       "campaign_days               0.061996\n",
       "slug_length                 0.061589\n",
       "staff_pick                  0.050148\n",
       "blurb_sentiment_negative    0.049466\n",
       "blurb_sentiment_positive    0.048685\n",
       "name_sentiment_positive     0.027866\n",
       "name_sentiment_negative     0.020979\n",
       "launch_day_0                0.010687\n",
       "launch_day_1                0.010648\n",
       "launch_day_2                0.010574\n",
       "country_US                  0.010451\n",
       "launch_day_3                0.010208\n",
       "category_food               0.009942\n",
       "launch_day_4                0.009896\n",
       "category_technology         0.008566\n",
       "category_film & video       0.007711\n",
       "launch_day_5                0.007324\n",
       "country_GB                  0.007062\n",
       "category_art                0.006975\n",
       "category_music              0.006580\n",
       "category_publishing         0.006499\n",
       "launch_day_6                0.006269\n",
       "launch_month_5              0.006028\n",
       "deadline_month_May          0.005923\n",
       "deadline_month_July         0.005917\n",
       "deadline_month_June         0.005784\n",
       "                              ...   \n",
       "deadline_month_January      0.004593\n",
       "country_CA                  0.004549\n",
       "launch_month_12             0.004461\n",
       "category_design             0.004374\n",
       "category_comics             0.003996\n",
       "category_journalism         0.003986\n",
       "category_crafts             0.003857\n",
       "category_theater            0.003609\n",
       "country_AU                  0.002902\n",
       "category_dance              0.002418\n",
       "country_DE                  0.002286\n",
       "country_IT                  0.002178\n",
       "country_FR                  0.001992\n",
       "country_MX                  0.001666\n",
       "country_ES                  0.001578\n",
       "country_NL                  0.001487\n",
       "country_SE                  0.001418\n",
       "blurb_sentiment_neutral     0.001384\n",
       "country_HK                  0.001317\n",
       "name_sentiment_neutral      0.001237\n",
       "country_DK                  0.000995\n",
       "country_NZ                  0.000995\n",
       "country_CH                  0.000680\n",
       "country_IE                  0.000655\n",
       "country_SG                  0.000648\n",
       "country_BE                  0.000614\n",
       "country_NO                  0.000565\n",
       "country_AT                  0.000556\n",
       "country_JP                  0.000433\n",
       "country_LU                  0.000090\n",
       "Length: 81, dtype: float64"
      ]
     },
     "execution_count": 49,
     "metadata": {},
     "output_type": "execute_result"
    }
   ],
   "source": [
    "import pandas as pd\n",
    "feature_imp = pd.Series(clf.feature_importances_,index=X_temp.columns).sort_values(ascending=False)\n",
    "feature_imp"
   ]
  },
  {
   "cell_type": "code",
   "execution_count": 50,
   "metadata": {},
   "outputs": [
    {
     "data": {
      "image/png": "[encoded data removed]",
      "text/plain": [
       "<Figure size 720x360 with 1 Axes>"
      ]
     },
     "metadata": {
      "needs_background": "light"
     },
     "output_type": "display_data"
    }
   ],
   "source": [
    "import matplotlib.pyplot as plt\n",
    "import seaborn as sns\n",
    "%matplotlib inline\n",
    "# Creating a bar plot\n",
    "plt.figure(figsize=(10,5))\n",
    "sns.barplot(x=feature_imp[0:15], y=feature_imp.index[0:15], palette='winter')\n",
    "# Add labels to your graph\n",
    "plt.xlabel('Feature Importance Score')\n",
    "plt.ylabel('Features')\n",
    "plt.title(\"Visualizing Important Features\")\n",
    "plt.savefig('ferature_importance.png')\n",
    "plt.show()"
   ]
  },
  {
   "cell_type": "markdown",
   "metadata": {},
   "source": [
    "## "
   ]
  },
  {
   "cell_type": "code",
   "execution_count": null,
   "metadata": {},
   "outputs": [],
   "source": []
  }
 ],
 "metadata": {
  "kernelspec": {
   "display_name": "Python 3",
   "language": "python",
   "name": "python3"
  },
  "language_info": {
   "codemirror_mode": {
    "name": "ipython",
    "version": 3
   },
   "file_extension": ".py",
   "mimetype": "text/x-python",
   "name": "python",
   "nbconvert_exporter": "python",
   "pygments_lexer": "ipython3",
   "version": "3.7.3"
  }
 },
 "nbformat": 4,
 "nbformat_minor": 2
}
